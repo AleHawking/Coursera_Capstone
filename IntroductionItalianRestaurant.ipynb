{
 "cells": [
  {
   "cell_type": "markdown",
   "metadata": {},
   "source": [
    "# Introduction\n",
    "\n",
    "Italian cuisine is one of the best in the world. The aim of this project is to find the most popular neighborhoods with italian restaurants in the Big Apple. This can be useful for suggesting where to open another restaurant that can be the bearer of our beautiful culture. \n",
    "As part of this project, we will list and visualize all major New York City's boroughs that have great Italian resturants based on ratings, tips and likes. We will then conclude by proposing the most suitable and competitive neighborhood for opening a new activity."
   ]
  }
 ],
 "metadata": {
  "kernelspec": {
   "display_name": "Python 3",
   "language": "python",
   "name": "python3"
  },
  "language_info": {
   "codemirror_mode": {
    "name": "ipython",
    "version": 3
   },
   "file_extension": ".py",
   "mimetype": "text/x-python",
   "name": "python",
   "nbconvert_exporter": "python",
   "pygments_lexer": "ipython3",
   "version": "3.8.3"
  }
 },
 "nbformat": 4,
 "nbformat_minor": 4
}
